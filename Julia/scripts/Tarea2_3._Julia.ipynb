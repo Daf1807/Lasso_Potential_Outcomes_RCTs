{
 "cells": [
  {
   "cell_type": "code",
   "execution_count": 20,
   "id": "3352c950",
   "metadata": {},
   "outputs": [],
   "source": [
    "using Random, DataFrames, Distributions, StatsModels, GLM"
   ]
  },
  {
   "cell_type": "code",
   "execution_count": 21,
   "id": "29f0fd35",
   "metadata": {},
   "outputs": [
    {
     "data": {
      "text/html": [
       "<div><div style = \"float: left;\"><span>5×6 DataFrame</span></div><div style = \"clear: both;\"></div></div><div class = \"data-frame\" style = \"overflow-x: scroll;\"><table class = \"data-frame\" style = \"margin-bottom: 6px;\"><thead><tr class = \"header\"><th class = \"rowNumber\" style = \"font-weight: bold; text-align: right;\">Row</th><th style = \"text-align: left;\">Y</th><th style = \"text-align: left;\">D</th><th style = \"text-align: left;\">X1</th><th style = \"text-align: left;\">X2</th><th style = \"text-align: left;\">X3</th><th style = \"text-align: left;\">X4</th></tr><tr class = \"subheader headerLastRow\"><th class = \"rowNumber\" style = \"font-weight: bold; text-align: right;\"></th><th title = \"Float64\" style = \"text-align: left;\">Float64</th><th title = \"Bool\" style = \"text-align: left;\">Bool</th><th title = \"Float64\" style = \"text-align: left;\">Float64</th><th title = \"Float64\" style = \"text-align: left;\">Float64</th><th title = \"Bool\" style = \"text-align: left;\">Bool</th><th title = \"Float64\" style = \"text-align: left;\">Float64</th></tr></thead><tbody><tr><td class = \"rowNumber\" style = \"font-weight: bold; text-align: right;\">1</td><td style = \"text-align: right;\">-1.10063</td><td style = \"text-align: right;\">false</td><td style = \"text-align: right;\">-1.37881</td><td style = \"text-align: right;\">-0.557993</td><td style = \"text-align: right;\">false</td><td style = \"text-align: right;\">-0.466615</td></tr><tr><td class = \"rowNumber\" style = \"font-weight: bold; text-align: right;\">2</td><td style = \"text-align: right;\">2.57531</td><td style = \"text-align: right;\">true</td><td style = \"text-align: right;\">1.23118</td><td style = \"text-align: right;\">-0.385044</td><td style = \"text-align: right;\">false</td><td style = \"text-align: right;\">0.01503</td></tr><tr><td class = \"rowNumber\" style = \"font-weight: bold; text-align: right;\">3</td><td style = \"text-align: right;\">3.53803</td><td style = \"text-align: right;\">true</td><td style = \"text-align: right;\">0.888268</td><td style = \"text-align: right;\">-1.27134</td><td style = \"text-align: right;\">false</td><td style = \"text-align: right;\">-0.91043</td></tr><tr><td class = \"rowNumber\" style = \"font-weight: bold; text-align: right;\">4</td><td style = \"text-align: right;\">0.75127</td><td style = \"text-align: right;\">true</td><td style = \"text-align: right;\">-0.40482</td><td style = \"text-align: right;\">-0.675685</td><td style = \"text-align: right;\">false</td><td style = \"text-align: right;\">-1.34471</td></tr><tr><td class = \"rowNumber\" style = \"font-weight: bold; text-align: right;\">5</td><td style = \"text-align: right;\">0.411425</td><td style = \"text-align: right;\">false</td><td style = \"text-align: right;\">0.125845</td><td style = \"text-align: right;\">1.30583</td><td style = \"text-align: right;\">true</td><td style = \"text-align: right;\">0.490851</td></tr></tbody></table></div>"
      ],
      "text/latex": [
       "\\begin{tabular}{r|cccccc}\n",
       "\t& Y & D & X1 & X2 & X3 & X4\\\\\n",
       "\t\\hline\n",
       "\t& Float64 & Bool & Float64 & Float64 & Bool & Float64\\\\\n",
       "\t\\hline\n",
       "\t1 & -1.10063 & 0 & -1.37881 & -0.557993 & 0 & -0.466615 \\\\\n",
       "\t2 & 2.57531 & 1 & 1.23118 & -0.385044 & 0 & 0.01503 \\\\\n",
       "\t3 & 3.53803 & 1 & 0.888268 & -1.27134 & 0 & -0.91043 \\\\\n",
       "\t4 & 0.75127 & 1 & -0.40482 & -0.675685 & 0 & -1.34471 \\\\\n",
       "\t5 & 0.411425 & 0 & 0.125845 & 1.30583 & 1 & 0.490851 \\\\\n",
       "\\end{tabular}\n"
      ],
      "text/plain": [
       "\u001b[1m5×6 DataFrame\u001b[0m\n",
       "\u001b[1m Row \u001b[0m│\u001b[1m Y         \u001b[0m\u001b[1m D     \u001b[0m\u001b[1m X1        \u001b[0m\u001b[1m X2        \u001b[0m\u001b[1m X3    \u001b[0m\u001b[1m X4        \u001b[0m\n",
       "     │\u001b[90m Float64   \u001b[0m\u001b[90m Bool  \u001b[0m\u001b[90m Float64   \u001b[0m\u001b[90m Float64   \u001b[0m\u001b[90m Bool  \u001b[0m\u001b[90m Float64   \u001b[0m\n",
       "─────┼──────────────────────────────────────────────────────────\n",
       "   1 │ -1.10063   false  -1.37881   -0.557993  false  -0.466615\n",
       "   2 │  2.57531    true   1.23118   -0.385044  false   0.01503\n",
       "   3 │  3.53803    true   0.888268  -1.27134   false  -0.91043\n",
       "   4 │  0.75127    true  -0.40482   -0.675685  false  -1.34471\n",
       "   5 │  0.411425  false   0.125845   1.30583    true   0.490851"
      ]
     },
     "execution_count": 21,
     "metadata": {},
     "output_type": "execute_result"
    }
   ],
   "source": [
    "using Random, DataFrames, Distributions\n",
    "\n",
    "function generar_datos(n::Int=1000; seed::Union{Int,Nothing}=nothing)\n",
    "    if seed !== nothing\n",
    "        Random.seed!(seed)   # fija semilla si quieres reproducibilidad, en este caso no\n",
    "    end\n",
    "\n",
    "    X1 = rand(Normal(), n)\n",
    "    X2 = rand(Normal(), n)\n",
    "    X3 = rand(Bernoulli(0.5), n)\n",
    "    X4 = rand(Normal(), n)\n",
    "    D  = rand(Bernoulli(0.5), n)\n",
    "    ϵ  = rand(Normal(), n)\n",
    "\n",
    "    Y = 2 .* D .+ 0.5 .* X1 .- 0.3 .* X2 .+ 0.2 .* X3 .+ ϵ\n",
    "\n",
    "    return DataFrame(\n",
    "        Y = Y,\n",
    "        D = D,\n",
    "        X1 = X1,\n",
    "        X2 = X2,\n",
    "        X3 = X3,\n",
    "        X4 = X4\n",
    "    )\n",
    "end\n",
    "\n",
    "# Ejemplo de uso\n",
    "df = generar_datos(1000, seed=nothing)  # sin semilla fija para que se aprecie el cambio de los predictores lasso elegidos \n",
    "first(df, 5)\n"
   ]
  },
  {
   "cell_type": "code",
   "execution_count": 22,
   "id": "de4d505b",
   "metadata": {},
   "outputs": [
    {
     "name": "stdout",
     "output_type": "stream",
     "text": [
      "---- Regresión simple: Y ~ D ----\n",
      "──────────────────────────────────────────────────────────────────────────\n",
      "                 Coef.  Std. Error      t  Pr(>|t|)   Lower 95%  Upper 95%\n",
      "──────────────────────────────────────────────────────────────────────────\n",
      "(Intercept)  0.0656232   0.051531    1.27    0.2031  -0.0354983   0.166745\n",
      "D            2.01306     0.0731691  27.51    <1e-99   1.86948     2.15664\n",
      "──────────────────────────────────────────────────────────────────────────\n",
      "\n",
      "---- Regresión con controles: Y ~ D + X1 + X2 + X3 + X4 ----\n",
      "────────────────────────────────────────────────────────────────────────────\n",
      "                  Coef.  Std. Error      t  Pr(>|t|)   Lower 95%   Upper 95%\n",
      "────────────────────────────────────────────────────────────────────────────\n",
      "(Intercept)   0.0109008   0.0544711   0.20    0.8414  -0.0959908   0.117792\n",
      "D             2.06043     0.0632887  32.56    <1e-99   1.93623     2.18462\n",
      "X1            0.51269     0.0316582  16.19    <1e-51   0.450565    0.574814\n",
      "X2           -0.29147     0.031843   -9.15    <1e-18  -0.353957   -0.228983\n",
      "X3            0.0706205   0.0632683   1.12    0.2646  -0.0535342   0.194775\n",
      "X4            0.0185021   0.031893    0.58    0.5620  -0.0440832   0.0810874\n",
      "────────────────────────────────────────────────────────────────────────────\n"
     ]
    }
   ],
   "source": [
    "\n",
    "# 1) Regresión simple: Y ~ D\n",
    "model_simple = lm(@formula(Y ~ D), df)\n",
    "ct_simple = coeftable(model_simple)   # tabla con coef, stderr, t, p\n",
    "\n",
    "# 2) Regresión con controles: Y ~ D + X1 + X2 + X3 + X4\n",
    "model_controls = lm(@formula(Y ~ D + X1 + X2 + X3 + X4), df)\n",
    "ct_controls = coeftable(model_controls)\n",
    "\n",
    "println(\"---- Regresión simple: Y ~ D ----\")\n",
    "println(ct_simple)\n",
    "println()\n",
    "println(\"---- Regresión con controles: Y ~ D + X1 + X2 + X3 + X4 ----\")\n",
    "println(ct_controls)\n",
    "\n"
   ]
  },
  {
   "cell_type": "code",
   "execution_count": 23,
   "id": "23e153d3",
   "metadata": {},
   "outputs": [
    {
     "name": "stdout",
     "output_type": "stream",
     "text": [
      "Balance check (t-test por covariable):\n",
      "\u001b[1m4×4 DataFrame\u001b[0m\n",
      "\u001b[1m Row \u001b[0m│\u001b[1m variable \u001b[0m\u001b[1m mean_treated \u001b[0m\u001b[1m mean_control \u001b[0m\u001b[1m p_value  \u001b[0m\n",
      "     │\u001b[90m String   \u001b[0m\u001b[90m Float64      \u001b[0m\u001b[90m Float64      \u001b[0m\u001b[90m Float64  \u001b[0m\n",
      "─────┼────────────────────────────────────────────────\n",
      "   1 │ X1          -0.0601658    0.038604    0.118605\n",
      "   2 │ X2          -0.0195868    0.00175376  0.734122\n",
      "   3 │ X3           0.479839     0.498016    0.565791\n",
      "   4 │ X4          -0.0753231    0.0146817   0.151505\n"
     ]
    }
   ],
   "source": [
    "using DataFrames, HypothesisTests, Statistics\n",
    "\n",
    "function balance_check(df::DataFrame, covariables::Vector{Symbol})\n",
    "    results = DataFrame(\n",
    "        variable = String[], \n",
    "        mean_treated = Float64[], \n",
    "        mean_control = Float64[], \n",
    "        p_value = Float64[]\n",
    "    )\n",
    "    \n",
    "    for var in covariables\n",
    "        treated = df[df.D .== 1, var]\n",
    "        control = df[df.D .== 0, var]\n",
    "\n",
    "        # T-test de dos muestras (varianzas iguales)\n",
    "        test = HypothesisTests.EqualVarianceTTest(treated, control)\n",
    "        pval = pvalue(test)\n",
    "\n",
    "        push!(results, (\n",
    "            variable = String(var),\n",
    "            mean_treated = mean(treated),\n",
    "            mean_control = mean(control),\n",
    "            p_value = pval\n",
    "        ))\n",
    "    end\n",
    "    \n",
    "    return results\n",
    "end\n",
    "\n",
    "# Ejemplo de uso\n",
    "balance_df = balance_check(df, [:X1, :X2, :X3, :X4])\n",
    "println(\"Balance check (t-test por covariable):\")\n",
    "println(balance_df)\n"
   ]
  },
  {
   "cell_type": "code",
   "execution_count": 24,
   "id": "27b2eb6e",
   "metadata": {},
   "outputs": [
    {
     "name": "stdout",
     "output_type": "stream",
     "text": [
      "Mejor λ (lambda_min): 0.025731704335141693\n",
      "X1           -> 0.4377\n",
      "X2           -> -0.2744\n",
      "X3           -> 0.0\n",
      "X4           -> -0.0035\n",
      "Variables seleccionadas: [\"X1\", \"X2\", \"X4\"]\n",
      "────────────────────────────────────────────────────────────────────────────\n",
      "                  Coef.  Std. Error      t  Pr(>|t|)   Lower 95%   Upper 95%\n",
      "────────────────────────────────────────────────────────────────────────────\n",
      "(Intercept)   0.0459905   0.0444897   1.03    0.3015  -0.0413139   0.133295\n",
      "D             2.05937     0.0632895  32.54    <1e-99   1.93518     2.18357\n",
      "X1            0.514653    0.0316132  16.28    <1e-52   0.452617    0.576689\n",
      "X2           -0.290878    0.0318425  -9.13    <1e-18  -0.353364   -0.228392\n",
      "X4            0.0187461   0.0318962   0.59    0.5569  -0.0438454   0.0813376\n",
      "────────────────────────────────────────────────────────────────────────────\n",
      "MSE en el conjunto completo: 0.9917345986949503\n",
      "R² en el conjunto completo: 0.5777528368017952\n"
     ]
    }
   ],
   "source": [
    "using DataFrames, GLMNet, Random, Statistics\n",
    "\n",
    "# Generar datos\n",
    "#df = generar_datos(1000, seed=123)\n",
    "\n",
    "# Matriz X y vector y\n",
    "X = Matrix(df[:, [:X1, :X2, :X3, :X4]])\n",
    "y = df.Y\n",
    "\n",
    "#Random.seed!(123)\n",
    "\n",
    "# LASSO con validación cruzada\n",
    "cvfit = glmnetcv(X, y; alpha=1, nfolds=5)\n",
    "\n",
    "# Encontrar índice del lambda que minimiza el error promedio\n",
    "best_idx = argmin(cvfit.meanloss)\n",
    "best_lambda = cvfit.lambda[best_idx]\n",
    "\n",
    "println(\"Mejor λ (lambda_min): \", best_lambda)\n",
    "\n",
    "\n",
    "\n",
    "# Coeficientes en λmin\n",
    "coefs = GLMNet.coef(cvfit)\n",
    "vars = [\"X1\", \"X2\", \"X3\", \"X4\"]\n",
    "\n",
    "for (v, c) in zip(vars, coefs)\n",
    "    println(rpad(v, 12), \" -> \", round(c, digits=4))\n",
    "end\n",
    "\n",
    "# Variables seleccionadas (coef ≠ 0, ignorando intercepto)\n",
    "selected = [v for (v,c) in zip(vars[1:end], coefs[1:end]) if c ≠ 0.0]\n",
    "println(\"Variables seleccionadas: \", selected)\n",
    "\n",
    "# Construir la fórmula dinámicamente\n",
    "# Variable dependiente: Y\n",
    "# Variables independientes: D + variables en selected\n",
    "terms = [Term(:Y), Term(:D), [Term(Symbol(v)) for v in selected]...]\n",
    "formula = FormulaTerm(terms[1], tuple(terms[2:end]...))\n",
    "\n",
    "# Ajustar el modelo GLM\n",
    "model_controls = GLM.lm(formula, df)\n",
    "\n",
    "# Obtener la tabla de coeficientes\n",
    "ct_controls = GLM.coeftable(model_controls)\n",
    "println(ct_controls)\n",
    "\n",
    "# Evaluar el modelo (opcional)\n",
    "y_pred = GLM.predict(model_controls, df)\n",
    "y_true = df[!, :Y]\n",
    "mse = mean((y_true .- y_pred).^2)\n",
    "println(\"MSE en el conjunto completo: \", mse)\n",
    "r2 = cor(y_true, y_pred)^2\n",
    "println(\"R² en el conjunto completo: \", r2)"
   ]
  },
  {
   "cell_type": "markdown",
   "id": "779d7985",
   "metadata": {},
   "source": [
    "# Conclusion\n",
    "---\n",
    "LASSO vs. OLS: LASSO is preferable due to its feature selection, excluding the non-significant X3 while retaining similar predictive power (R² ≈ 0.5778). The OLS model includes X3 unnecessarily, but coefficients for D, X1, and X2 are consistent across both models.\n",
    "Performance: LASSO’s R² (0.5778) and MSE (0.9917) suggest a good fit, likely better than your earlier models due to feature selection or outcome scaling.\n",
    "\n"
   ]
  }
 ],
 "metadata": {
  "kernelspec": {
   "display_name": "Julia 1.11.6",
   "language": "julia",
   "name": "julia-1.11"
  },
  "language_info": {
   "file_extension": ".jl",
   "mimetype": "application/julia",
   "name": "julia",
   "version": "1.11.6"
  }
 },
 "nbformat": 4,
 "nbformat_minor": 5
}
