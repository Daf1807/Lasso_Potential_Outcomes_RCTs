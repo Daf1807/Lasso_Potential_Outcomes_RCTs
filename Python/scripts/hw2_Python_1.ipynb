{
 "cells": [
  {
   "cell_type": "markdown",
   "id": "c377473d",
   "metadata": {},
   "source": [
    "# Coments"
   ]
  },
  {
   "cell_type": "markdown",
   "id": "837aa45b",
   "metadata": {},
   "source": [
    "################################################################################ <br><br>\n",
    " 1.1 Suppose you estimate LASSO with a very large λ and with a very small λ\n",
    " Describe qualitatively how the coefficients and training/test error behave in both cases.<br><br>\n",
    "################################################################################ <br><br>\n",
    "\n",
    " 🔹 When λ is very large (the lasso is very short and tight):\n",
    " - The coefficients are heavily penalized, many shrink to zero.\n",
    " - The model becomes very simple → underfitting.\n",
    " - Training error: high, because the model does not fit well.\n",
    " - Test error: also high, since it fails to capture the true signal.\n",
    "\n",
    " 🔹 When λ is very small (the lasso is long and barely tight):\n",
    " - The coefficients are hardly penalized, they remain large.\n",
    " - The model fits the data too much → overfitting.\n",
    " - Training error: very low.\n",
    " - Test error: tends to be high because the model memorizes noise instead of generalizing."
   ]
  },
  {
   "cell_type": "markdown",
   "id": "9e0fc818",
   "metadata": {},
   "source": [
    "################################################################################ <br><br>\n",
    "1.2 Explain what cross-validation is and why it is useful in machine learning. <br><br>\n",
    "Illustrate with a sketch of how data is split.<br><br>\n",
    "################################################################################ <br><br>\n",
    "\n",
    "Cross-validation is a technique that splits the data into several groups called folds.\n",
    "In each iteration, one fold is used as validation and the others as training.\n",
    "This process is repeated until all folds have been used as validation.\n",
    "At the end, the results are averaged.\n",
    "\n",
    "This is useful in machine learning because:\n",
    "- It allows for a better evaluation of model performance.\n",
    "- It avoids relying on a single train/test split.\n",
    "- It helps in selecting hyperparameters (for example, the optimal value of λ in LASSO).\n",
    "\n",
    "Sketch: https://www.google.com/url?sa=i&url=https%3A%2F%2Fscikit-learn.org%2Fstable%2Fmodules%2Fcross_validation.html&psig=AOvVaw0nHZd8X_6_w8ONHLmEnLib&ust=1758774627929000&source=images&cd=vfe&opi=89978449&ved=0CBUQjRxqFwoTCLj175nI8I8DFQAAAAAdAAAAABAE"
   ]
  },
  {
   "cell_type": "code",
   "execution_count": null,
   "id": "3abe879e",
   "metadata": {},
   "outputs": [],
   "source": []
  }
 ],
 "metadata": {
  "kernelspec": {
   "display_name": "Python 3 (ipykernel)",
   "language": "python",
   "name": "python3"
  },
  "language_info": {
   "codemirror_mode": {
    "name": "ipython",
    "version": 3
   },
   "file_extension": ".py",
   "mimetype": "text/x-python",
   "name": "python",
   "nbconvert_exporter": "python",
   "pygments_lexer": "ipython3",
   "version": "3.10.9"
  }
 },
 "nbformat": 4,
 "nbformat_minor": 5
}
